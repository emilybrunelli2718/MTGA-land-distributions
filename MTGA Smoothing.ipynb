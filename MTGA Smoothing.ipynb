{
 "cells": [
  {
   "cell_type": "code",
   "execution_count": 1,
   "metadata": {},
   "outputs": [],
   "source": [
    "import re\n",
    "import matplotlib.pyplot as plt\n",
    "import seaborn as sns\n",
    "import numpy as np\n",
    "import math\n",
    "import pandas as pd"
   ]
  },
  {
   "cell_type": "code",
   "execution_count": 2,
   "metadata": {},
   "outputs": [],
   "source": [
    "mulligan_log = open(\"bot.txt\", \"r\")\n",
    "mulligan_string = mulligan_log.read()\n",
    "lines = mulligan_log.readlines()"
   ]
  },
  {
   "cell_type": "markdown",
   "metadata": {},
   "source": [
    "In the game logs, everything in the same hand is stored on the same line. So, I'll read everything in line-by-line, and then do a regex search on each line for what I want. "
   ]
  },
  {
   "cell_type": "code",
   "execution_count": 3,
   "metadata": {},
   "outputs": [],
   "source": [
    "lines = []\n",
    "with open(\"bot.txt\") as f:\n",
    "    for line in f:\n",
    "        lines.append(line)"
   ]
  },
  {
   "cell_type": "code",
   "execution_count": 4,
   "metadata": {},
   "outputs": [],
   "source": [
    "matches = []\n",
    "for l in lines:\n",
    "    line = re.findall(\"(gameObjects)(.*?)(}\\n)\", l)\n",
    "    if line != []:\n",
    "        matches.append(line)\n",
    "\n",
    "num_hands = len(matches) #Data for each hand is contained within a single line. "
   ]
  },
  {
   "cell_type": "code",
   "execution_count": 5,
   "metadata": {},
   "outputs": [],
   "source": [
    "count_lands = []\n",
    "for i in range(num_hands):\n",
    "    count_lands.append(str(matches[i]).count(\"SubType_Forest\"))"
   ]
  },
  {
   "cell_type": "code",
   "execution_count": 190,
   "metadata": {},
   "outputs": [],
   "source": [
    "d = {x:count_lands.count(x) for x in count_lands}\n",
    "a, b = d.keys(), d.values()\n",
    "land_counts = [0, 3, 312, 620, 111, 0, 0, 0]\n",
    "frequency = [0, 3/num_hands, 312/num_hands, 620/num_hands, 111/num_hands, 0, 0, 0]"
   ]
  },
  {
   "cell_type": "markdown",
   "metadata": {},
   "source": [
    "We expect a [hypergeometric distribution](https://en.wikipedia.org/wiki/Hypergeometric_distribution) (were it not to be smoothed) where K is the total number of lands, N is the size of your deck, k is the number of lands chosen, and n is the hand size. "
   ]
  },
  {
   "cell_type": "code",
   "execution_count": 7,
   "metadata": {},
   "outputs": [],
   "source": [
    "N = 60\n",
    "K = 24\n",
    "n = 7\n",
    "p_x = [math.comb(24, k) * math.comb(N - K, n - k)/math.comb(N, n) for k in range(0, 8)]"
   ]
  },
  {
   "cell_type": "code",
   "execution_count": 201,
   "metadata": {},
   "outputs": [
    {
     "data": {
      "text/plain": [
       "Text(0, 0.5, 'Frequency')"
      ]
     },
     "execution_count": 201,
     "metadata": {},
     "output_type": "execute_result"
    },
    {
     "data": {
      "image/png": "[encoded data removed]",
      "text/plain": [
       "<Figure size 432x288 with 1 Axes>"
      ]
     },
     "metadata": {
      "needs_background": "light"
     },
     "output_type": "display_data"
    }
   ],
   "source": [
    "fig, ax = plt.subplots()\n",
    "ax.bar(np.arange(0,8), p_x, 1, zorder = 1, alpha = .3)\n",
    "ax.bar(np.arange(0,8), frequency, 1,  zorder = 2, alpha = .4)\n",
    "ax.set_title(\"Basic hand draws, no rigging\")\n",
    "ax.set_xlabel(\"Number of lands in hand\")\n",
    "ax.set_ylabel(\"Frequency\")"
   ]
  },
  {
   "cell_type": "markdown",
   "metadata": {},
   "source": [
    "What is the process that MTGA uses to smooth? Here's what was said in 2018 by Ryan Spain, one of the MTGA designers: https://forums.mtgarena.com/forums/threads/347\n",
    "\n",
    "\"MTG Arena has a system for randomizing opening hands in single-game matches that is different from the traditional method. We knew early on that the ability to play a meaningful single game of Magic would be an important part of the MTG Arena play options for the time-constrained player, but in testing, losing a single-game match after a mulligan felt worse than normal without the fallback plan of winning the other two games.\n",
    "\n",
    "To mitigate this loss of the “foul to give” built into best-of-three matches, we wanted to randomize starting hands in a way that would reduce the frequency of mulligans, but without incentivizing mana-base construction outside the strategic norms of the game. Here’s how it works:\n",
    "\n",
    "<b>The system draws an opening hand from each of two separately randomized copies of the decks, and leans towards giving the player the hand with the mix of spells and lands (without regard for color) closest to average for that deck<b>.\n",
    "You can then use standard Vancouver Mulligan rules to get a new hand with one fewer card. Mulliganed hands are created from a single randomized draw.\n",
    "\n",
    "We feel this achieves the desired effect of reducing the frequency of mulligans without changing how players build their mana bases, but we will be looking at data and listening to feedback on this system, so let us know what you think. Remember that this won’t make all your starting hands perfect! You will probably have some stretches of hands where you think we must have turned this system off. The overall mulligan rate should be lower, though, and we hope that will create a better-feeling but strategically authentic experience for single-game matches.\"\n"
   ]
  },
  {
   "cell_type": "markdown",
   "metadata": {},
   "source": [
    "### Simulating Supposed Smoothing Strategy \n",
    "\n",
    "I'll simulate the strategy outlined by Ryan Spain. Does it looks like MTGA still uses the strategy he described? It's also plausible that different algorithms are used for different formats. I have only tested this with bot matches so far, and I assume the vast majority of people playing bot matches are complete beginners (you don't get XP and you can't make quest progress with bot matches). A beginner is more likely to be offput than a seasoned player by bad RNG, enough so that it could plausibly contribute to them quitting the game. \n",
    "\n",
    "In the future, I'll have to test this in the \"Standard Play\" and \"Standard Ranked\" formats, which I have thus far avoided because I didn't want to annoy real players. Best-of-3 games will also be interesting to try out and (in my opinion) has the highest likelihood of using less smoothing because repeated matches are already a good defense against RNG, but I'll likely need to make the bot work based off of screen detection if I do this because the queue times are fairly inconsistent. "
   ]
  },
  {
   "cell_type": "code",
   "execution_count": 9,
   "metadata": {},
   "outputs": [],
   "source": [
    "comb_probs = [[p_x[i]*p_x[j] for i in range(len(p_x))] for j in range(len(p_x))]"
   ]
  },
  {
   "cell_type": "code",
   "execution_count": 10,
   "metadata": {},
   "outputs": [],
   "source": [
    "prob_combinations = pd.DataFrame(comb_probs,\n",
    "                   columns=np.arange(0,8))"
   ]
  },
  {
   "cell_type": "markdown",
   "metadata": {},
   "source": [
    "The table below outlines the probability of drawing pair of hands with any combination of lands (for example, there is a 9.5 percent chance that both hands have 3 lands). "
   ]
  },
  {
   "cell_type": "code",
   "execution_count": 11,
   "metadata": {},
   "outputs": [
    {
     "data": {
      "text/html": [
       "<style type=\"text/css\">\n",
       "</style>\n",
       "<table id=\"T_f4bb8_\">\n",
       "  <thead>\n",
       "    <tr>\n",
       "      <th class=\"blank level0\" >&nbsp;</th>\n",
       "      <th class=\"col_heading level0 col0\" >0</th>\n",
       "      <th class=\"col_heading level0 col1\" >1</th>\n",
       "      <th class=\"col_heading level0 col2\" >2</th>\n",
       "      <th class=\"col_heading level0 col3\" >3</th>\n",
       "      <th class=\"col_heading level0 col4\" >4</th>\n",
       "      <th class=\"col_heading level0 col5\" >5</th>\n",
       "      <th class=\"col_heading level0 col6\" >6</th>\n",
       "      <th class=\"col_heading level0 col7\" >7</th>\n",
       "    </tr>\n",
       "  </thead>\n",
       "  <tbody>\n",
       "    <tr>\n",
       "      <th id=\"T_f4bb8_level0_row0\" class=\"row_heading level0 row0\" >0</th>\n",
       "      <td id=\"T_f4bb8_row0_col0\" class=\"data row0 col0\" >0.000467</td>\n",
       "      <td id=\"T_f4bb8_row0_col1\" class=\"data row0 col1\" >0.002616</td>\n",
       "      <td id=\"T_f4bb8_row0_col2\" class=\"data row0 col2\" >0.005823</td>\n",
       "      <td id=\"T_f4bb8_row0_col3\" class=\"data row0 col3\" >0.006672</td>\n",
       "      <td id=\"T_f4bb8_row0_col4\" class=\"data row0 col4\" >0.004246</td>\n",
       "      <td id=\"T_f4bb8_row0_col5\" class=\"data row0 col5\" >0.001499</td>\n",
       "      <td id=\"T_f4bb8_row0_col6\" class=\"data row0 col6\" >0.000271</td>\n",
       "      <td id=\"T_f4bb8_row0_col7\" class=\"data row0 col7\" >0.000019</td>\n",
       "    </tr>\n",
       "    <tr>\n",
       "      <th id=\"T_f4bb8_level0_row1\" class=\"row_heading level0 row1\" >1</th>\n",
       "      <td id=\"T_f4bb8_row1_col0\" class=\"data row1 col0\" >0.002616</td>\n",
       "      <td id=\"T_f4bb8_row1_col1\" class=\"data row1 col1\" >0.014651</td>\n",
       "      <td id=\"T_f4bb8_row1_col2\" class=\"data row1 col2\" >0.032610</td>\n",
       "      <td id=\"T_f4bb8_row1_col3\" class=\"data row1 col3\" >0.037366</td>\n",
       "      <td id=\"T_f4bb8_row1_col4\" class=\"data row1 col4\" >0.023778</td>\n",
       "      <td id=\"T_f4bb8_row1_col5\" class=\"data row1 col5\" >0.008392</td>\n",
       "      <td id=\"T_f4bb8_row1_col6\" class=\"data row1 col6\" >0.001519</td>\n",
       "      <td id=\"T_f4bb8_row1_col7\" class=\"data row1 col7\" >0.000108</td>\n",
       "    </tr>\n",
       "    <tr>\n",
       "      <th id=\"T_f4bb8_level0_row2\" class=\"row_heading level0 row2\" >2</th>\n",
       "      <td id=\"T_f4bb8_row2_col0\" class=\"data row2 col0\" >0.005823</td>\n",
       "      <td id=\"T_f4bb8_row2_col1\" class=\"data row2 col1\" >0.032610</td>\n",
       "      <td id=\"T_f4bb8_row2_col2\" class=\"data row2 col2\" >0.072584</td>\n",
       "      <td id=\"T_f4bb8_row2_col3\" class=\"data row2 col3\" >0.083169</td>\n",
       "      <td id=\"T_f4bb8_row2_col4\" class=\"data row2 col4\" >0.052926</td>\n",
       "      <td id=\"T_f4bb8_row2_col5\" class=\"data row2 col5\" >0.018680</td>\n",
       "      <td id=\"T_f4bb8_row2_col6\" class=\"data row2 col6\" >0.003380</td>\n",
       "      <td id=\"T_f4bb8_row2_col7\" class=\"data row2 col7\" >0.000241</td>\n",
       "    </tr>\n",
       "    <tr>\n",
       "      <th id=\"T_f4bb8_level0_row3\" class=\"row_heading level0 row3\" >3</th>\n",
       "      <td id=\"T_f4bb8_row3_col0\" class=\"data row3 col0\" >0.006672</td>\n",
       "      <td id=\"T_f4bb8_row3_col1\" class=\"data row3 col1\" >0.037366</td>\n",
       "      <td id=\"T_f4bb8_row3_col2\" class=\"data row3 col2\" >0.083169</td>\n",
       "      <td id=\"T_f4bb8_row3_col3\" class=\"data row3 col3\" >0.095298</td>\n",
       "      <td id=\"T_f4bb8_row3_col4\" class=\"data row3 col4\" >0.060644</td>\n",
       "      <td id=\"T_f4bb8_row3_col5\" class=\"data row3 col5\" >0.021404</td>\n",
       "      <td id=\"T_f4bb8_row3_col6\" class=\"data row3 col6\" >0.003873</td>\n",
       "      <td id=\"T_f4bb8_row3_col7\" class=\"data row3 col7\" >0.000277</td>\n",
       "    </tr>\n",
       "    <tr>\n",
       "      <th id=\"T_f4bb8_level0_row4\" class=\"row_heading level0 row4\" >4</th>\n",
       "      <td id=\"T_f4bb8_row4_col0\" class=\"data row4 col0\" >0.004246</td>\n",
       "      <td id=\"T_f4bb8_row4_col1\" class=\"data row4 col1\" >0.023778</td>\n",
       "      <td id=\"T_f4bb8_row4_col2\" class=\"data row4 col2\" >0.052926</td>\n",
       "      <td id=\"T_f4bb8_row4_col3\" class=\"data row4 col3\" >0.060644</td>\n",
       "      <td id=\"T_f4bb8_row4_col4\" class=\"data row4 col4\" >0.038592</td>\n",
       "      <td id=\"T_f4bb8_row4_col5\" class=\"data row4 col5\" >0.013621</td>\n",
       "      <td id=\"T_f4bb8_row4_col6\" class=\"data row4 col6\" >0.002465</td>\n",
       "      <td id=\"T_f4bb8_row4_col7\" class=\"data row4 col7\" >0.000176</td>\n",
       "    </tr>\n",
       "    <tr>\n",
       "      <th id=\"T_f4bb8_level0_row5\" class=\"row_heading level0 row5\" >5</th>\n",
       "      <td id=\"T_f4bb8_row5_col0\" class=\"data row5 col0\" >0.001499</td>\n",
       "      <td id=\"T_f4bb8_row5_col1\" class=\"data row5 col1\" >0.008392</td>\n",
       "      <td id=\"T_f4bb8_row5_col2\" class=\"data row5 col2\" >0.018680</td>\n",
       "      <td id=\"T_f4bb8_row5_col3\" class=\"data row5 col3\" >0.021404</td>\n",
       "      <td id=\"T_f4bb8_row5_col4\" class=\"data row5 col4\" >0.013621</td>\n",
       "      <td id=\"T_f4bb8_row5_col5\" class=\"data row5 col5\" >0.004807</td>\n",
       "      <td id=\"T_f4bb8_row5_col6\" class=\"data row5 col6\" >0.000870</td>\n",
       "      <td id=\"T_f4bb8_row5_col7\" class=\"data row5 col7\" >0.000062</td>\n",
       "    </tr>\n",
       "    <tr>\n",
       "      <th id=\"T_f4bb8_level0_row6\" class=\"row_heading level0 row6\" >6</th>\n",
       "      <td id=\"T_f4bb8_row6_col0\" class=\"data row6 col0\" >0.000271</td>\n",
       "      <td id=\"T_f4bb8_row6_col1\" class=\"data row6 col1\" >0.001519</td>\n",
       "      <td id=\"T_f4bb8_row6_col2\" class=\"data row6 col2\" >0.003380</td>\n",
       "      <td id=\"T_f4bb8_row6_col3\" class=\"data row6 col3\" >0.003873</td>\n",
       "      <td id=\"T_f4bb8_row6_col4\" class=\"data row6 col4\" >0.002465</td>\n",
       "      <td id=\"T_f4bb8_row6_col5\" class=\"data row6 col5\" >0.000870</td>\n",
       "      <td id=\"T_f4bb8_row6_col6\" class=\"data row6 col6\" >0.000157</td>\n",
       "      <td id=\"T_f4bb8_row6_col7\" class=\"data row6 col7\" >0.000011</td>\n",
       "    </tr>\n",
       "    <tr>\n",
       "      <th id=\"T_f4bb8_level0_row7\" class=\"row_heading level0 row7\" >7</th>\n",
       "      <td id=\"T_f4bb8_row7_col0\" class=\"data row7 col0\" >0.000019</td>\n",
       "      <td id=\"T_f4bb8_row7_col1\" class=\"data row7 col1\" >0.000108</td>\n",
       "      <td id=\"T_f4bb8_row7_col2\" class=\"data row7 col2\" >0.000241</td>\n",
       "      <td id=\"T_f4bb8_row7_col3\" class=\"data row7 col3\" >0.000277</td>\n",
       "      <td id=\"T_f4bb8_row7_col4\" class=\"data row7 col4\" >0.000176</td>\n",
       "      <td id=\"T_f4bb8_row7_col5\" class=\"data row7 col5\" >0.000062</td>\n",
       "      <td id=\"T_f4bb8_row7_col6\" class=\"data row7 col6\" >0.000011</td>\n",
       "      <td id=\"T_f4bb8_row7_col7\" class=\"data row7 col7\" >0.000001</td>\n",
       "    </tr>\n",
       "  </tbody>\n",
       "</table>\n"
      ],
      "text/plain": [
       "<pandas.io.formats.style.Styler at 0x175ca4ce160>"
      ]
     },
     "execution_count": 11,
     "metadata": {},
     "output_type": "execute_result"
    }
   ],
   "source": [
    "prob_combinations.style"
   ]
  },
  {
   "cell_type": "markdown",
   "metadata": {},
   "source": [
    "For a 60-card deck with 24 lands, we want the hand where $\\frac{lands}{total}$ is closest to .4. In effect, this means that "
   ]
  },
  {
   "cell_type": "code",
   "execution_count": 13,
   "metadata": {},
   "outputs": [],
   "source": [
    "hand_select = [[ 1 if (abs(.4 - i/7) < abs(.4 - j/7)) else 0 for i in range(8)] for j in range(8)]  "
   ]
  },
  {
   "cell_type": "code",
   "execution_count": 14,
   "metadata": {},
   "outputs": [
    {
     "data": {
      "text/plain": [
       "[[0, 1, 1, 1, 1, 1, 0, 0],\n",
       " [0, 0, 1, 1, 1, 0, 0, 0],\n",
       " [0, 0, 0, 1, 0, 0, 0, 0],\n",
       " [0, 0, 0, 0, 0, 0, 0, 0],\n",
       " [0, 0, 1, 1, 0, 0, 0, 0],\n",
       " [0, 1, 1, 1, 1, 0, 0, 0],\n",
       " [1, 1, 1, 1, 1, 1, 0, 0],\n",
       " [1, 1, 1, 1, 1, 1, 1, 0]]"
      ]
     },
     "execution_count": 14,
     "metadata": {},
     "output_type": "execute_result"
    }
   ],
   "source": [
    "hand_select"
   ]
  },
  {
   "cell_type": "markdown",
   "metadata": {},
   "source": [
    "Now, we go through and sum up all the probabilities. The way we can interpret the array above: if the value is 0, then we use the row's index, if the value is 1, then we use the column's index as the hand we choose. "
   ]
  },
  {
   "cell_type": "code",
   "execution_count": 200,
   "metadata": {},
   "outputs": [],
   "source": [
    "#p(x = 0) = for all entries where i = 0, go to relevant index in dataframe and add to sum\n",
    "final_hands = [0, 0, 0, 0, 0, 0, 0, 0]\n",
    "for i in range(8):\n",
    "    for j in range(8):\n",
    "        p = prob_combinations.loc[i,j]\n",
    "        if hand_select[i][j] == 0: #then we use i as the hand \n",
    "            #We need to add this probability to position i \n",
    "            final_hands[i] += p\n",
    "        else:\n",
    "            final_hands[j] += p                 "
   ]
  },
  {
   "cell_type": "code",
   "execution_count": 16,
   "metadata": {},
   "outputs": [
    {
     "data": {
      "text/plain": [
       "Text(0, 0.5, 'Frequency')"
      ]
     },
     "execution_count": 16,
     "metadata": {},
     "output_type": "execute_result"
    },
    {
     "data": {
      "image/png": "[encoded data removed]",
      "text/plain": [
       "<Figure size 432x288 with 1 Axes>"
      ]
     },
     "metadata": {
      "needs_background": "light"
     },
     "output_type": "display_data"
    }
   ],
   "source": [
    "fig, ax2 = plt.subplots()\n",
    "ax2.bar(np.arange(0,8), frequency, 1,  zorder = 1, alpha = .4)\n",
    "ax2.bar(np.arange(0,8), final_hands, 1, zorder = 2, alpha= .4)\n",
    "ax2.set_title(\"Land Distributions in MTGA\")\n",
    "ax2.set_xlabel(\"Number of lands in hand\")\n",
    "ax2.set_ylabel(\"Frequency\")"
   ]
  },
  {
   "cell_type": "markdown",
   "metadata": {},
   "source": [
    "I'll simulate 5000 draws of 1046 hands and then plot where 95% of the lands fall. "
   ]
  },
  {
   "cell_type": "code",
   "execution_count": 137,
   "metadata": {},
   "outputs": [],
   "source": [
    "simulated_draws = []\n",
    "n = 5000\n",
    "for i in range(n):\n",
    "    simulated_draws.append(np.random.choice(np.arange(0,8), num_hands, p = final_hands))"
   ]
  },
  {
   "cell_type": "code",
   "execution_count": 138,
   "metadata": {},
   "outputs": [],
   "source": [
    "import collections"
   ]
  },
  {
   "cell_type": "code",
   "execution_count": 139,
   "metadata": {},
   "outputs": [],
   "source": [
    "sim_counts = []\n",
    "for i in range(len(simulated_draws)):\n",
    "    sim_dict = collections.Counter(simulated_draws[i])\n",
    "    count = [0,0,0,0,0,0,0,0]\n",
    "    for key in range(0,8):\n",
    "        count[key] = sim_dict[key]\n",
    "    sim_counts.append(count)"
   ]
  },
  {
   "cell_type": "code",
   "execution_count": 162,
   "metadata": {},
   "outputs": [],
   "source": [
    "df_sim_counts = pd.DataFrame(sim_counts)"
   ]
  },
  {
   "cell_type": "code",
   "execution_count": 184,
   "metadata": {},
   "outputs": [],
   "source": [
    "quantile_025 = []\n",
    "quantile_0975 = []\n",
    "means = []\n",
    "for i in range(0,8):\n",
    "    quantile_025.append(df_sim_counts[i].quantile(0.025))\n",
    "    quantile_0975.append(df_sim_counts[i].quantile(.975))\n",
    "    means.append(df_sim_counts[i].mean())"
   ]
  },
  {
   "cell_type": "code",
   "execution_count": 199,
   "metadata": {},
   "outputs": [
    {
     "data": {
      "text/plain": [
       "Text(0, 0.5, 'Frequency')"
      ]
     },
     "execution_count": 199,
     "metadata": {},
     "output_type": "execute_result"
    },
    {
     "data": {
      "image/png": "[encoded data removed]",
      "text/plain": [
       "<Figure size 432x288 with 1 Axes>"
      ]
     },
     "metadata": {
      "needs_background": "light"
     },
     "output_type": "display_data"
    }
   ],
   "source": [
    "fig, ax2 = plt.subplots()\n",
    "ci = [(0, 3), (30, 55), (285, 342), (515, 578), (111, 155), (4, 17), (0, 1), (0, 0)]\n",
    "y_r = [means[i] - ci[i][1] for i in range(len(ci))]\n",
    "plt.bar(range(len(means)), means, yerr=y_r, alpha=0.4, align='center')\n",
    "ax2.bar(np.arange(0,8), land_counts, 1, zorder = 2, alpha= .4)\n",
    "ax2.set_title(\"Simulated vs. Actual # Lands, .95 CI\")\n",
    "ax2.set_xlabel(\"Number of lands in hand\")\n",
    "ax2.set_ylabel(\"Frequency\")"
   ]
  },
  {
   "cell_type": "markdown",
   "metadata": {},
   "source": [
    "Above is the result after running 5000 simulations, where the simulated (where in each simulation, 1046 hands are drawn). 95% confidence intervals are shown in black. Based on the above, we're getting significantly fewer hands with 1 land and 5 lands, and significantly more hands with 3 lands (p < .05).  "
   ]
  },
  {
   "cell_type": "code",
   "execution_count": null,
   "metadata": {},
   "outputs": [],
   "source": []
  }
 ],
 "metadata": {
  "kernelspec": {
   "display_name": "Python 3 (ipykernel)",
   "language": "python",
   "name": "python3"
  },
  "language_info": {
   "codemirror_mode": {
    "name": "ipython",
    "version": 3
   },
   "file_extension": ".py",
   "mimetype": "text/x-python",
   "name": "python",
   "nbconvert_exporter": "python",
   "pygments_lexer": "ipython3",
   "version": "3.9.6"
  }
 },
 "nbformat": 4,
 "nbformat_minor": 4
}
